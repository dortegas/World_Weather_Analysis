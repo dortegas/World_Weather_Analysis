{
 "cells": [
  {
   "cell_type": "code",
   "execution_count": 5,
   "id": "a7192e50",
   "metadata": {},
   "outputs": [],
   "source": [
    "# Import the random module.\n",
    "import random"
   ]
  },
  {
   "cell_type": "code",
   "execution_count": 10,
   "id": "b4e8e21e",
   "metadata": {},
   "outputs": [
    {
     "data": {
      "text/plain": [
       "-62"
      ]
     },
     "execution_count": 10,
     "metadata": {},
     "output_type": "execute_result"
    }
   ],
   "source": [
    "random.randint(-90,90)"
   ]
  },
  {
   "cell_type": "code",
   "execution_count": 12,
   "id": "ac2fc89c",
   "metadata": {},
   "outputs": [
    {
     "data": {
      "text/plain": [
       "0.11390947269049045"
      ]
     },
     "execution_count": 12,
     "metadata": {},
     "output_type": "execute_result"
    }
   ],
   "source": [
    "random.random()"
   ]
  },
  {
   "cell_type": "code",
   "execution_count": 13,
   "id": "35b02430",
   "metadata": {},
   "outputs": [
    {
     "data": {
      "text/plain": [
       "[43.78097273310948,\n",
       " 58.082614481326665,\n",
       " 12.747667144122891,\n",
       " -52.32442908189615,\n",
       " 57.19337367536876,\n",
       " -60.851142711677234,\n",
       " 42.78909077448157,\n",
       " 89.28982058781862,\n",
       " 44.277034913100756,\n",
       " -57.25518438231089]"
      ]
     },
     "execution_count": 13,
     "metadata": {},
     "output_type": "execute_result"
    }
   ],
   "source": [
    "x = 1\n",
    "latitudes = []\n",
    "while x < 11:\n",
    "    random_lat = random.randint(-90, 89) + random.random()\n",
    "    latitudes.append(random_lat)\n",
    "    x += 1\n",
    "\n",
    "latitudes"
   ]
  },
  {
   "cell_type": "code",
   "execution_count": 17,
   "id": "9247dcb3",
   "metadata": {},
   "outputs": [
    {
     "data": {
      "text/plain": [
       "10"
      ]
     },
     "execution_count": 17,
     "metadata": {},
     "output_type": "execute_result"
    }
   ],
   "source": [
    "random.randrange(-90,90,step=1)"
   ]
  },
  {
   "cell_type": "code",
   "execution_count": 26,
   "id": "c2b4c024",
   "metadata": {},
   "outputs": [
    {
     "data": {
      "text/plain": [
       "-66"
      ]
     },
     "execution_count": 26,
     "metadata": {},
     "output_type": "execute_result"
    }
   ],
   "source": [
    "random.randrange(-90,90,step=3)"
   ]
  },
  {
   "cell_type": "code",
   "execution_count": 28,
   "id": "62812423",
   "metadata": {},
   "outputs": [
    {
     "data": {
      "text/plain": [
       "1.6900717432313002"
      ]
     },
     "execution_count": 28,
     "metadata": {},
     "output_type": "execute_result"
    }
   ],
   "source": [
    "random.uniform(-90, 90)"
   ]
  },
  {
   "cell_type": "code",
   "execution_count": 29,
   "id": "44528f26",
   "metadata": {},
   "outputs": [],
   "source": [
    "# Import the NumPy module.\n",
    "import numpy as np"
   ]
  },
  {
   "cell_type": "code",
   "execution_count": 31,
   "id": "bffa34d3",
   "metadata": {},
   "outputs": [
    {
     "data": {
      "text/plain": [
       "65.62631349997187"
      ]
     },
     "execution_count": 31,
     "metadata": {},
     "output_type": "execute_result"
    }
   ],
   "source": [
    "np.random.uniform(-90.000, 90.000)"
   ]
  },
  {
   "cell_type": "code",
   "execution_count": 32,
   "id": "925b7e3e",
   "metadata": {},
   "outputs": [
    {
     "data": {
      "text/plain": [
       "array([-65.34082726, -33.4995931 , -34.93292226,  33.56822063,\n",
       "        66.7399951 ,  14.32819851, -63.3819059 ,  35.91887734,\n",
       "        62.53450945,   3.40700223,  56.85931862,  55.0106662 ,\n",
       "        41.78634423, -85.83545536, -32.10823154,  62.75728759,\n",
       "       -63.91814026, -59.54292001, -64.4349521 ,  36.86763834,\n",
       "       -48.44950758, -30.20066538,  82.42615595, -60.71055875,\n",
       "        44.59948791,  -4.46143803,  62.26826452,  -2.11836881,\n",
       "        10.77762277, -58.18687566,  66.83663938, -43.92970644,\n",
       "       -50.80273771,  73.34200163,   5.00674227, -32.27518127,\n",
       "        66.9491988 ,  20.52396165,  -4.86852692,  75.37216394,\n",
       "       -21.3315609 , -53.1930748 ,  89.83817659, -36.46510153,\n",
       "       -88.07625133,  63.04429448, -89.36253662,  -5.26923251,\n",
       "       -61.21492634,   1.80958865])"
      ]
     },
     "execution_count": 32,
     "metadata": {},
     "output_type": "execute_result"
    }
   ],
   "source": [
    "np.random.uniform(-90.000, 90.000, size=50)"
   ]
  },
  {
   "cell_type": "code",
   "execution_count": 33,
   "id": "0d111124",
   "metadata": {},
   "outputs": [],
   "source": [
    "# Import timeit.\n",
    "import timeit"
   ]
  },
  {
   "cell_type": "code",
   "execution_count": 36,
   "id": "da9579eb",
   "metadata": {},
   "outputs": [
    {
     "name": "stdout",
     "output_type": "stream",
     "text": [
      "11.5 µs ± 180 ns per loop (mean ± std. dev. of 7 runs, 100000 loops each)\n"
     ]
    }
   ],
   "source": [
    "%timeit np.random.uniform(-90.000, 90.000, size=1500)"
   ]
  },
  {
   "cell_type": "code",
   "execution_count": 37,
   "id": "53b45e6f",
   "metadata": {},
   "outputs": [
    {
     "name": "stdout",
     "output_type": "stream",
     "text": [
      "1.36 ms ± 22.3 µs per loop (mean ± std. dev. of 7 runs, 1000 loops each)\n"
     ]
    }
   ],
   "source": [
    "def latitudes(size):\n",
    "    latitudes = []\n",
    "    x = 0\n",
    "    while x < (size):\n",
    "        random_lat = random.randint(-90, 90) + random.random()\n",
    "        latitudes.append(random_lat)\n",
    "        x += 1\n",
    "    return latitudes\n",
    "# Call the function with 1500.\n",
    "%timeit latitudes(1500)"
   ]
  },
  {
   "cell_type": "code",
   "execution_count": null,
   "id": "e0169b8f",
   "metadata": {},
   "outputs": [],
   "source": []
  }
 ],
 "metadata": {
  "kernelspec": {
   "display_name": "PythonData",
   "language": "python",
   "name": "pythondata"
  },
  "language_info": {
   "codemirror_mode": {
    "name": "ipython",
    "version": 3
   },
   "file_extension": ".py",
   "mimetype": "text/x-python",
   "name": "python",
   "nbconvert_exporter": "python",
   "pygments_lexer": "ipython3",
   "version": "3.7.10"
  }
 },
 "nbformat": 4,
 "nbformat_minor": 5
}
